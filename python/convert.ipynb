{
 "cells": [
  {
   "cell_type": "code",
   "execution_count": 4,
   "metadata": {},
   "outputs": [],
   "source": [
    "from data import data\n",
    "from tex2html import Parser"
   ]
  },
  {
   "cell_type": "code",
   "execution_count": 7,
   "metadata": {},
   "outputs": [
    {
     "name": "stdout",
     "output_type": "stream",
     "text": [
      "category [CT:category]\n",
      "functor [CT:functor]\n",
      "monomorphism [CT:monomorphism]\n",
      "epimorphism [CT:epimorphism]\n",
      "split monomorphism [CT:split-monomorphism]\n",
      "split epimorphism [CT:split-epimorphism]\n",
      "isomorphism [CT:isomorphism]\n",
      "terminal [CT:terminal]\n",
      "initial [CT:initial]\n",
      "full [CT:full]\n",
      "faithful [CT:faithful]\n",
      "natural transformation [CT:natural-transformation]\n",
      "Yoneda embedding [CT:yoneda-embedding]\n",
      "Yoneda lemma [CT:yoneda-lemma]\n",
      "groupoid [CT:groupoid]\n",
      "equivalence of categories [CT:equivalence-of-categories]\n",
      "essentially surjective [CT:essentially-surjective]\n",
      "equalizer [CT:equalizer]\n"
     ]
    }
   ],
   "source": [
    "# Create html files\n",
    "parser = Parser('/Users/jessevogel/Desktop/mathdef/data/')\n",
    "\n",
    "for c in data:\n",
    "    parser.set_prefix(c)\n",
    "    for f in data[c]:\n",
    "        parser.parse(open('/Users/jessevogel/Desktop/mathdef/tex/' + f, 'r'))"
   ]
  },
  {
   "cell_type": "code",
   "execution_count": 8,
   "metadata": {},
   "outputs": [],
   "source": [
    "# Write topics.js\n",
    "topics_js = open('/Users/jessevogel/Desktop/mathdef/data/topics.js', 'w')\n",
    "\n",
    "topics_js.write('var topics = {\\n');\n",
    "for i in parser.topics:\n",
    "    topics_js.write('  \"{}\": \"{}\",\\n'.format(i, parser.topics[i]));\n",
    "topics_js.write('}\\n');\n",
    "\n",
    "topics_js.close()"
   ]
  },
  {
   "cell_type": "code",
   "execution_count": null,
   "metadata": {},
   "outputs": [],
   "source": []
  }
 ],
 "metadata": {
  "kernelspec": {
   "display_name": "Python 3",
   "language": "python",
   "name": "python3"
  },
  "language_info": {
   "codemirror_mode": {
    "name": "ipython",
    "version": 3
   },
   "file_extension": ".py",
   "mimetype": "text/x-python",
   "name": "python",
   "nbconvert_exporter": "python",
   "pygments_lexer": "ipython3",
   "version": "3.8.6"
  }
 },
 "nbformat": 4,
 "nbformat_minor": 4
}
