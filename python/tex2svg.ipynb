{
 "cells": [
  {
   "cell_type": "code",
   "execution_count": 1,
   "metadata": {},
   "outputs": [],
   "source": [
    "import os\n",
    "import subprocess\n",
    "import shutil"
   ]
  },
  {
   "cell_type": "code",
   "execution_count": 6,
   "metadata": {},
   "outputs": [],
   "source": [
    "def tex2svg(tex_file, svg_dest):\n",
    "    # Paths and filenames\n",
    "    build_dir, filename = os.path.split(tex_file)\n",
    "    base, ext = os.path.splitext(filename)\n",
    "    if ext != '.tex':\n",
    "        raise Exception('input must be a .tex file')\n",
    "    \n",
    "    # Run `pdflatex`\n",
    "    args = ('pdflatex', '-halt-on-error', '-interaction=nonstopmode', '-output-directory=' + build_dir, filename)\n",
    "    code = subprocess.run(args).returncode\n",
    "    if code != 0:\n",
    "        raise Exception('failed to compile to pdf')\n",
    "    \n",
    "    # Run `pdf2svg`\n",
    "    svg_file = build_dir + '/' + base + '.svg'\n",
    "    pdf_file = build_dir + '/' + base + '.pdf'\n",
    "    args = ('pdf2svg', pdf_file, svg_file)\n",
    "    code = subprocess.run(args, stdout = subprocess.DEVNULL, stderr = subprocess.DEVNULL).returncode\n",
    "    if code != 0:\n",
    "        raise Exception('failed to convert pdf to svg')\n",
    "        \n",
    "    shutil.copyfile(svg_file, svg_dest)\n",
    "    return True"
   ]
  }
 ],
 "metadata": {
  "kernelspec": {
   "display_name": "Python 3",
   "language": "python",
   "name": "python3"
  },
  "language_info": {
   "codemirror_mode": {
    "name": "ipython",
    "version": 3
   },
   "file_extension": ".py",
   "mimetype": "text/x-python",
   "name": "python",
   "nbconvert_exporter": "python",
   "pygments_lexer": "ipython3",
   "version": "3.8.6"
  }
 },
 "nbformat": 4,
 "nbformat_minor": 4
}
